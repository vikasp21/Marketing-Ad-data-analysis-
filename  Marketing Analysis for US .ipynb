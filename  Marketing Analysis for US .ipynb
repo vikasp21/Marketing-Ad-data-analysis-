{
 "cells": [
  {
   "cell_type": "code",
   "execution_count": 1,
   "id": "2b7b2576",
   "metadata": {},
   "outputs": [],
   "source": [
    "import pandas as pd \n",
    "import matplotlib.pyplot as plt\n",
    "import seaborn as sns\n",
    "sns.set()"
   ]
  },
  {
   "cell_type": "code",
   "execution_count": 2,
   "id": "fd0a778d",
   "metadata": {},
   "outputs": [
    {
     "data": {
      "text/html": [
       "<div>\n",
       "<style scoped>\n",
       "    .dataframe tbody tr th:only-of-type {\n",
       "        vertical-align: middle;\n",
       "    }\n",
       "\n",
       "    .dataframe tbody tr th {\n",
       "        vertical-align: top;\n",
       "    }\n",
       "\n",
       "    .dataframe thead th {\n",
       "        text-align: right;\n",
       "    }\n",
       "</style>\n",
       "<table border=\"1\" class=\"dataframe\">\n",
       "  <thead>\n",
       "    <tr style=\"text-align: right;\">\n",
       "      <th></th>\n",
       "      <th>Ad Group</th>\n",
       "      <th>Month</th>\n",
       "      <th>Impressions</th>\n",
       "      <th>Clicks</th>\n",
       "      <th>CTR</th>\n",
       "      <th>Conversions</th>\n",
       "      <th>Conv Rate</th>\n",
       "      <th>Cost</th>\n",
       "      <th>CPC</th>\n",
       "      <th>Revenue</th>\n",
       "      <th>Sale Amount</th>\n",
       "      <th>P&amp;L</th>\n",
       "    </tr>\n",
       "  </thead>\n",
       "  <tbody>\n",
       "    <tr>\n",
       "      <th>0</th>\n",
       "      <td>Shop - 1:1 - Desk - [shop coupon code]</td>\n",
       "      <td>July</td>\n",
       "      <td>16038</td>\n",
       "      <td>6504</td>\n",
       "      <td>0.41</td>\n",
       "      <td>1166</td>\n",
       "      <td>0.10</td>\n",
       "      <td>6669</td>\n",
       "      <td>1.03</td>\n",
       "      <td>6402</td>\n",
       "      <td>136770.05</td>\n",
       "      <td>-267.086</td>\n",
       "    </tr>\n",
       "    <tr>\n",
       "      <th>1</th>\n",
       "      <td>Shop - 1:1 - Desk - [shop coupon]</td>\n",
       "      <td>July</td>\n",
       "      <td>36462</td>\n",
       "      <td>14367</td>\n",
       "      <td>0.39</td>\n",
       "      <td>2188</td>\n",
       "      <td>0.09</td>\n",
       "      <td>13746</td>\n",
       "      <td>0.96</td>\n",
       "      <td>13262</td>\n",
       "      <td>283215.21</td>\n",
       "      <td>-483.951</td>\n",
       "    </tr>\n",
       "    <tr>\n",
       "      <th>2</th>\n",
       "      <td>Shop - 1:1 - Desk - [shop discount code]</td>\n",
       "      <td>July</td>\n",
       "      <td>3635</td>\n",
       "      <td>1458</td>\n",
       "      <td>0.40</td>\n",
       "      <td>248</td>\n",
       "      <td>0.09</td>\n",
       "      <td>1606</td>\n",
       "      <td>1.10</td>\n",
       "      <td>1723</td>\n",
       "      <td>39165.46</td>\n",
       "      <td>117.136</td>\n",
       "    </tr>\n",
       "    <tr>\n",
       "      <th>3</th>\n",
       "      <td>Shop - 1:1 - Desk - [shop promo code]</td>\n",
       "      <td>July</td>\n",
       "      <td>26185</td>\n",
       "      <td>10418</td>\n",
       "      <td>0.40</td>\n",
       "      <td>2294</td>\n",
       "      <td>0.12</td>\n",
       "      <td>13278</td>\n",
       "      <td>1.27</td>\n",
       "      <td>13042</td>\n",
       "      <td>284823.48</td>\n",
       "      <td>-235.921</td>\n",
       "    </tr>\n",
       "    <tr>\n",
       "      <th>4</th>\n",
       "      <td>Shop - 1:1 - Desk - [shop promo]</td>\n",
       "      <td>July</td>\n",
       "      <td>808</td>\n",
       "      <td>282</td>\n",
       "      <td>0.35</td>\n",
       "      <td>61</td>\n",
       "      <td>0.15</td>\n",
       "      <td>391</td>\n",
       "      <td>1.39</td>\n",
       "      <td>337</td>\n",
       "      <td>7717.77</td>\n",
       "      <td>-53.604</td>\n",
       "    </tr>\n",
       "  </tbody>\n",
       "</table>\n",
       "</div>"
      ],
      "text/plain": [
       "                                   Ad Group Month  Impressions  Clicks   CTR  \\\n",
       "0    Shop - 1:1 - Desk - [shop coupon code]  July        16038    6504  0.41   \n",
       "1         Shop - 1:1 - Desk - [shop coupon]  July        36462   14367  0.39   \n",
       "2  Shop - 1:1 - Desk - [shop discount code]  July         3635    1458  0.40   \n",
       "3     Shop - 1:1 - Desk - [shop promo code]  July        26185   10418  0.40   \n",
       "4          Shop - 1:1 - Desk - [shop promo]  July          808     282  0.35   \n",
       "\n",
       "   Conversions  Conv Rate   Cost   CPC  Revenue  Sale Amount      P&L  \n",
       "0         1166       0.10   6669  1.03     6402    136770.05 -267.086  \n",
       "1         2188       0.09  13746  0.96    13262    283215.21 -483.951  \n",
       "2          248       0.09   1606  1.10     1723     39165.46  117.136  \n",
       "3         2294       0.12  13278  1.27    13042    284823.48 -235.921  \n",
       "4           61       0.15    391  1.39      337      7717.77  -53.604  "
      ]
     },
     "execution_count": 2,
     "metadata": {},
     "output_type": "execute_result"
    }
   ],
   "source": [
    "data=pd.read_csv('finalshopUS.csv')\n",
    "data.head()"
   ]
  },
  {
   "cell_type": "code",
   "execution_count": 3,
   "id": "7c2912b5",
   "metadata": {},
   "outputs": [
    {
     "data": {
      "text/plain": [
       "(190, 12)"
      ]
     },
     "execution_count": 3,
     "metadata": {},
     "output_type": "execute_result"
    }
   ],
   "source": [
    "data.shape\n"
   ]
  },
  {
   "cell_type": "code",
   "execution_count": 4,
   "id": "2479790f",
   "metadata": {},
   "outputs": [
    {
     "data": {
      "text/plain": [
       "RangeIndex(start=0, stop=190, step=1)"
      ]
     },
     "execution_count": 4,
     "metadata": {},
     "output_type": "execute_result"
    }
   ],
   "source": [
    "data.index"
   ]
  },
  {
   "cell_type": "code",
   "execution_count": 5,
   "id": "0af1552d",
   "metadata": {},
   "outputs": [
    {
     "name": "stdout",
     "output_type": "stream",
     "text": [
      "<class 'pandas.core.frame.DataFrame'>\n",
      "RangeIndex: 190 entries, 0 to 189\n",
      "Data columns (total 12 columns):\n",
      " #   Column       Non-Null Count  Dtype  \n",
      "---  ------       --------------  -----  \n",
      " 0   Ad Group     190 non-null    object \n",
      " 1   Month        190 non-null    object \n",
      " 2   Impressions  190 non-null    int64  \n",
      " 3   Clicks       190 non-null    int64  \n",
      " 4   CTR          190 non-null    float64\n",
      " 5   Conversions  190 non-null    int64  \n",
      " 6   Conv Rate    190 non-null    float64\n",
      " 7   Cost         190 non-null    int64  \n",
      " 8   CPC          190 non-null    float64\n",
      " 9   Revenue      190 non-null    int64  \n",
      " 10  Sale Amount  190 non-null    float64\n",
      " 11  P&L          190 non-null    float64\n",
      "dtypes: float64(5), int64(5), object(2)\n",
      "memory usage: 17.9+ KB\n"
     ]
    }
   ],
   "source": [
    "data.info()\n"
   ]
  },
  {
   "cell_type": "code",
   "execution_count": 6,
   "id": "f202a541",
   "metadata": {},
   "outputs": [
    {
     "data": {
      "text/plain": [
       "Ad Group        object\n",
       "Month           object\n",
       "Impressions      int64\n",
       "Clicks           int64\n",
       "CTR            float64\n",
       "Conversions      int64\n",
       "Conv Rate      float64\n",
       "Cost             int64\n",
       "CPC            float64\n",
       "Revenue          int64\n",
       "Sale Amount    float64\n",
       "P&L            float64\n",
       "dtype: object"
      ]
     },
     "execution_count": 6,
     "metadata": {},
     "output_type": "execute_result"
    }
   ],
   "source": [
    "data.dtypes"
   ]
  },
  {
   "cell_type": "code",
   "execution_count": 8,
   "id": "8fabd54c",
   "metadata": {},
   "outputs": [
    {
     "data": {
      "text/plain": [
       "Ad Group       0\n",
       "Month          0\n",
       "Impressions    0\n",
       "Clicks         0\n",
       "CTR            0\n",
       "Conversions    0\n",
       "Conv Rate      0\n",
       "Cost           0\n",
       "CPC            0\n",
       "Revenue        0\n",
       "Sale Amount    0\n",
       "P&L            0\n",
       "dtype: int64"
      ]
     },
     "execution_count": 8,
     "metadata": {},
     "output_type": "execute_result"
    }
   ],
   "source": [
    "data.isna().sum()"
   ]
  },
  {
   "cell_type": "code",
   "execution_count": 10,
   "id": "8f66af62",
   "metadata": {},
   "outputs": [
    {
     "data": {
      "text/plain": [
       "0"
      ]
     },
     "execution_count": 10,
     "metadata": {},
     "output_type": "execute_result"
    }
   ],
   "source": [
    "data.duplicated().sum()"
   ]
  },
  {
   "cell_type": "code",
   "execution_count": 11,
   "id": "64be677f",
   "metadata": {},
   "outputs": [
    {
     "data": {
      "text/plain": [
       "Ad Group        40\n",
       "Month            5\n",
       "Impressions    189\n",
       "Clicks         183\n",
       "CTR             42\n",
       "Conversions    137\n",
       "Conv Rate       21\n",
       "Cost           175\n",
       "CPC            100\n",
       "Revenue        172\n",
       "Sale Amount    184\n",
       "P&L            188\n",
       "dtype: int64"
      ]
     },
     "execution_count": 11,
     "metadata": {},
     "output_type": "execute_result"
    }
   ],
   "source": [
    "data.nunique()"
   ]
  },
  {
   "cell_type": "code",
   "execution_count": 23,
   "id": "a6d78645",
   "metadata": {},
   "outputs": [
    {
     "data": {
      "text/html": [
       "<div>\n",
       "<style scoped>\n",
       "    .dataframe tbody tr th:only-of-type {\n",
       "        vertical-align: middle;\n",
       "    }\n",
       "\n",
       "    .dataframe tbody tr th {\n",
       "        vertical-align: top;\n",
       "    }\n",
       "\n",
       "    .dataframe thead th {\n",
       "        text-align: right;\n",
       "    }\n",
       "</style>\n",
       "<table border=\"1\" class=\"dataframe\">\n",
       "  <thead>\n",
       "    <tr style=\"text-align: right;\">\n",
       "      <th></th>\n",
       "      <th>Impressions</th>\n",
       "      <th>Clicks</th>\n",
       "      <th>CTR</th>\n",
       "      <th>Conversions</th>\n",
       "      <th>Conv Rate</th>\n",
       "      <th>Cost</th>\n",
       "      <th>CPC</th>\n",
       "      <th>Revenue</th>\n",
       "      <th>Sale Amount</th>\n",
       "      <th>P&amp;L</th>\n",
       "    </tr>\n",
       "  </thead>\n",
       "  <tbody>\n",
       "    <tr>\n",
       "      <th>count</th>\n",
       "      <td>190.000000</td>\n",
       "      <td>190.000000</td>\n",
       "      <td>190.000000</td>\n",
       "      <td>190.000000</td>\n",
       "      <td>190.000000</td>\n",
       "      <td>190.000000</td>\n",
       "      <td>190.000000</td>\n",
       "      <td>190.000000</td>\n",
       "      <td>190.000000</td>\n",
       "      <td>190.000000</td>\n",
       "    </tr>\n",
       "    <tr>\n",
       "      <th>mean</th>\n",
       "      <td>14077.363158</td>\n",
       "      <td>4865.805263</td>\n",
       "      <td>0.272105</td>\n",
       "      <td>505.242105</td>\n",
       "      <td>0.079737</td>\n",
       "      <td>3344.063158</td>\n",
       "      <td>0.791263</td>\n",
       "      <td>2957.684211</td>\n",
       "      <td>63416.180579</td>\n",
       "      <td>-386.361916</td>\n",
       "    </tr>\n",
       "    <tr>\n",
       "      <th>std</th>\n",
       "      <td>29771.686227</td>\n",
       "      <td>11348.529219</td>\n",
       "      <td>0.107894</td>\n",
       "      <td>1052.202922</td>\n",
       "      <td>0.052859</td>\n",
       "      <td>6524.606753</td>\n",
       "      <td>0.403312</td>\n",
       "      <td>5962.413097</td>\n",
       "      <td>125414.656922</td>\n",
       "      <td>903.073776</td>\n",
       "    </tr>\n",
       "    <tr>\n",
       "      <th>min</th>\n",
       "      <td>35.000000</td>\n",
       "      <td>2.000000</td>\n",
       "      <td>0.050000</td>\n",
       "      <td>0.000000</td>\n",
       "      <td>0.000000</td>\n",
       "      <td>1.000000</td>\n",
       "      <td>0.140000</td>\n",
       "      <td>0.000000</td>\n",
       "      <td>0.000000</td>\n",
       "      <td>-5672.271000</td>\n",
       "    </tr>\n",
       "    <tr>\n",
       "      <th>25%</th>\n",
       "      <td>1065.000000</td>\n",
       "      <td>264.500000</td>\n",
       "      <td>0.192500</td>\n",
       "      <td>24.000000</td>\n",
       "      <td>0.050000</td>\n",
       "      <td>188.500000</td>\n",
       "      <td>0.480000</td>\n",
       "      <td>144.500000</td>\n",
       "      <td>2985.135000</td>\n",
       "      <td>-294.977500</td>\n",
       "    </tr>\n",
       "    <tr>\n",
       "      <th>50%</th>\n",
       "      <td>4969.000000</td>\n",
       "      <td>930.000000</td>\n",
       "      <td>0.285000</td>\n",
       "      <td>70.500000</td>\n",
       "      <td>0.070000</td>\n",
       "      <td>563.500000</td>\n",
       "      <td>0.635000</td>\n",
       "      <td>459.500000</td>\n",
       "      <td>10274.105000</td>\n",
       "      <td>-75.978000</td>\n",
       "    </tr>\n",
       "    <tr>\n",
       "      <th>75%</th>\n",
       "      <td>13380.000000</td>\n",
       "      <td>4190.500000</td>\n",
       "      <td>0.360000</td>\n",
       "      <td>428.250000</td>\n",
       "      <td>0.100000</td>\n",
       "      <td>2967.000000</td>\n",
       "      <td>1.107500</td>\n",
       "      <td>2672.250000</td>\n",
       "      <td>59345.195000</td>\n",
       "      <td>-6.027500</td>\n",
       "    </tr>\n",
       "    <tr>\n",
       "      <th>max</th>\n",
       "      <td>276568.000000</td>\n",
       "      <td>99526.000000</td>\n",
       "      <td>0.470000</td>\n",
       "      <td>7563.000000</td>\n",
       "      <td>0.500000</td>\n",
       "      <td>43542.000000</td>\n",
       "      <td>2.020000</td>\n",
       "      <td>42440.000000</td>\n",
       "      <td>886095.310000</td>\n",
       "      <td>1507.685000</td>\n",
       "    </tr>\n",
       "  </tbody>\n",
       "</table>\n",
       "</div>"
      ],
      "text/plain": [
       "         Impressions        Clicks         CTR  Conversions   Conv Rate  \\\n",
       "count     190.000000    190.000000  190.000000   190.000000  190.000000   \n",
       "mean    14077.363158   4865.805263    0.272105   505.242105    0.079737   \n",
       "std     29771.686227  11348.529219    0.107894  1052.202922    0.052859   \n",
       "min        35.000000      2.000000    0.050000     0.000000    0.000000   \n",
       "25%      1065.000000    264.500000    0.192500    24.000000    0.050000   \n",
       "50%      4969.000000    930.000000    0.285000    70.500000    0.070000   \n",
       "75%     13380.000000   4190.500000    0.360000   428.250000    0.100000   \n",
       "max    276568.000000  99526.000000    0.470000  7563.000000    0.500000   \n",
       "\n",
       "               Cost         CPC       Revenue    Sale Amount          P&L  \n",
       "count    190.000000  190.000000    190.000000     190.000000   190.000000  \n",
       "mean    3344.063158    0.791263   2957.684211   63416.180579  -386.361916  \n",
       "std     6524.606753    0.403312   5962.413097  125414.656922   903.073776  \n",
       "min        1.000000    0.140000      0.000000       0.000000 -5672.271000  \n",
       "25%      188.500000    0.480000    144.500000    2985.135000  -294.977500  \n",
       "50%      563.500000    0.635000    459.500000   10274.105000   -75.978000  \n",
       "75%     2967.000000    1.107500   2672.250000   59345.195000    -6.027500  \n",
       "max    43542.000000    2.020000  42440.000000  886095.310000  1507.685000  "
      ]
     },
     "execution_count": 23,
     "metadata": {},
     "output_type": "execute_result"
    }
   ],
   "source": [
    "data.describe()"
   ]
  },
  {
   "cell_type": "code",
   "execution_count": 33,
   "id": "830d085d",
   "metadata": {},
   "outputs": [
    {
     "data": {
      "text/html": [
       "<div>\n",
       "<style scoped>\n",
       "    .dataframe tbody tr th:only-of-type {\n",
       "        vertical-align: middle;\n",
       "    }\n",
       "\n",
       "    .dataframe tbody tr th {\n",
       "        vertical-align: top;\n",
       "    }\n",
       "\n",
       "    .dataframe thead th {\n",
       "        text-align: right;\n",
       "    }\n",
       "</style>\n",
       "<table border=\"1\" class=\"dataframe\">\n",
       "  <thead>\n",
       "    <tr style=\"text-align: right;\">\n",
       "      <th></th>\n",
       "      <th>Ad Group</th>\n",
       "      <th>Month</th>\n",
       "      <th>Impressions</th>\n",
       "      <th>Clicks</th>\n",
       "      <th>CTR</th>\n",
       "      <th>Conversions</th>\n",
       "      <th>Conv Rate</th>\n",
       "      <th>Cost</th>\n",
       "      <th>CPC</th>\n",
       "      <th>Revenue</th>\n",
       "      <th>Sale Amount</th>\n",
       "      <th>P&amp;L</th>\n",
       "    </tr>\n",
       "  </thead>\n",
       "  <tbody>\n",
       "    <tr>\n",
       "      <th>count</th>\n",
       "      <td>190</td>\n",
       "      <td>190</td>\n",
       "      <td>190.000000</td>\n",
       "      <td>190.000000</td>\n",
       "      <td>190.000000</td>\n",
       "      <td>190.000000</td>\n",
       "      <td>190.000000</td>\n",
       "      <td>190.000000</td>\n",
       "      <td>190.000000</td>\n",
       "      <td>190.000000</td>\n",
       "      <td>190.000000</td>\n",
       "      <td>190.000000</td>\n",
       "    </tr>\n",
       "    <tr>\n",
       "      <th>unique</th>\n",
       "      <td>40</td>\n",
       "      <td>5</td>\n",
       "      <td>NaN</td>\n",
       "      <td>NaN</td>\n",
       "      <td>NaN</td>\n",
       "      <td>NaN</td>\n",
       "      <td>NaN</td>\n",
       "      <td>NaN</td>\n",
       "      <td>NaN</td>\n",
       "      <td>NaN</td>\n",
       "      <td>NaN</td>\n",
       "      <td>NaN</td>\n",
       "    </tr>\n",
       "    <tr>\n",
       "      <th>top</th>\n",
       "      <td>Shop - 1:1 - Desk - [shop coupon code]</td>\n",
       "      <td>November</td>\n",
       "      <td>NaN</td>\n",
       "      <td>NaN</td>\n",
       "      <td>NaN</td>\n",
       "      <td>NaN</td>\n",
       "      <td>NaN</td>\n",
       "      <td>NaN</td>\n",
       "      <td>NaN</td>\n",
       "      <td>NaN</td>\n",
       "      <td>NaN</td>\n",
       "      <td>NaN</td>\n",
       "    </tr>\n",
       "    <tr>\n",
       "      <th>freq</th>\n",
       "      <td>5</td>\n",
       "      <td>39</td>\n",
       "      <td>NaN</td>\n",
       "      <td>NaN</td>\n",
       "      <td>NaN</td>\n",
       "      <td>NaN</td>\n",
       "      <td>NaN</td>\n",
       "      <td>NaN</td>\n",
       "      <td>NaN</td>\n",
       "      <td>NaN</td>\n",
       "      <td>NaN</td>\n",
       "      <td>NaN</td>\n",
       "    </tr>\n",
       "    <tr>\n",
       "      <th>mean</th>\n",
       "      <td>NaN</td>\n",
       "      <td>NaN</td>\n",
       "      <td>14077.363158</td>\n",
       "      <td>4865.805263</td>\n",
       "      <td>0.272105</td>\n",
       "      <td>505.242105</td>\n",
       "      <td>0.079737</td>\n",
       "      <td>3344.063158</td>\n",
       "      <td>0.791263</td>\n",
       "      <td>2957.684211</td>\n",
       "      <td>63416.180579</td>\n",
       "      <td>-386.361916</td>\n",
       "    </tr>\n",
       "    <tr>\n",
       "      <th>std</th>\n",
       "      <td>NaN</td>\n",
       "      <td>NaN</td>\n",
       "      <td>29771.686227</td>\n",
       "      <td>11348.529219</td>\n",
       "      <td>0.107894</td>\n",
       "      <td>1052.202922</td>\n",
       "      <td>0.052859</td>\n",
       "      <td>6524.606753</td>\n",
       "      <td>0.403312</td>\n",
       "      <td>5962.413097</td>\n",
       "      <td>125414.656922</td>\n",
       "      <td>903.073776</td>\n",
       "    </tr>\n",
       "    <tr>\n",
       "      <th>min</th>\n",
       "      <td>NaN</td>\n",
       "      <td>NaN</td>\n",
       "      <td>35.000000</td>\n",
       "      <td>2.000000</td>\n",
       "      <td>0.050000</td>\n",
       "      <td>0.000000</td>\n",
       "      <td>0.000000</td>\n",
       "      <td>1.000000</td>\n",
       "      <td>0.140000</td>\n",
       "      <td>0.000000</td>\n",
       "      <td>0.000000</td>\n",
       "      <td>-5672.271000</td>\n",
       "    </tr>\n",
       "    <tr>\n",
       "      <th>25%</th>\n",
       "      <td>NaN</td>\n",
       "      <td>NaN</td>\n",
       "      <td>1065.000000</td>\n",
       "      <td>264.500000</td>\n",
       "      <td>0.192500</td>\n",
       "      <td>24.000000</td>\n",
       "      <td>0.050000</td>\n",
       "      <td>188.500000</td>\n",
       "      <td>0.480000</td>\n",
       "      <td>144.500000</td>\n",
       "      <td>2985.135000</td>\n",
       "      <td>-294.977500</td>\n",
       "    </tr>\n",
       "    <tr>\n",
       "      <th>50%</th>\n",
       "      <td>NaN</td>\n",
       "      <td>NaN</td>\n",
       "      <td>4969.000000</td>\n",
       "      <td>930.000000</td>\n",
       "      <td>0.285000</td>\n",
       "      <td>70.500000</td>\n",
       "      <td>0.070000</td>\n",
       "      <td>563.500000</td>\n",
       "      <td>0.635000</td>\n",
       "      <td>459.500000</td>\n",
       "      <td>10274.105000</td>\n",
       "      <td>-75.978000</td>\n",
       "    </tr>\n",
       "    <tr>\n",
       "      <th>75%</th>\n",
       "      <td>NaN</td>\n",
       "      <td>NaN</td>\n",
       "      <td>13380.000000</td>\n",
       "      <td>4190.500000</td>\n",
       "      <td>0.360000</td>\n",
       "      <td>428.250000</td>\n",
       "      <td>0.100000</td>\n",
       "      <td>2967.000000</td>\n",
       "      <td>1.107500</td>\n",
       "      <td>2672.250000</td>\n",
       "      <td>59345.195000</td>\n",
       "      <td>-6.027500</td>\n",
       "    </tr>\n",
       "    <tr>\n",
       "      <th>max</th>\n",
       "      <td>NaN</td>\n",
       "      <td>NaN</td>\n",
       "      <td>276568.000000</td>\n",
       "      <td>99526.000000</td>\n",
       "      <td>0.470000</td>\n",
       "      <td>7563.000000</td>\n",
       "      <td>0.500000</td>\n",
       "      <td>43542.000000</td>\n",
       "      <td>2.020000</td>\n",
       "      <td>42440.000000</td>\n",
       "      <td>886095.310000</td>\n",
       "      <td>1507.685000</td>\n",
       "    </tr>\n",
       "  </tbody>\n",
       "</table>\n",
       "</div>"
      ],
      "text/plain": [
       "                                      Ad Group     Month    Impressions  \\\n",
       "count                                      190       190     190.000000   \n",
       "unique                                      40         5            NaN   \n",
       "top     Shop - 1:1 - Desk - [shop coupon code]  November            NaN   \n",
       "freq                                         5        39            NaN   \n",
       "mean                                       NaN       NaN   14077.363158   \n",
       "std                                        NaN       NaN   29771.686227   \n",
       "min                                        NaN       NaN      35.000000   \n",
       "25%                                        NaN       NaN    1065.000000   \n",
       "50%                                        NaN       NaN    4969.000000   \n",
       "75%                                        NaN       NaN   13380.000000   \n",
       "max                                        NaN       NaN  276568.000000   \n",
       "\n",
       "              Clicks         CTR  Conversions   Conv Rate          Cost  \\\n",
       "count     190.000000  190.000000   190.000000  190.000000    190.000000   \n",
       "unique           NaN         NaN          NaN         NaN           NaN   \n",
       "top              NaN         NaN          NaN         NaN           NaN   \n",
       "freq             NaN         NaN          NaN         NaN           NaN   \n",
       "mean     4865.805263    0.272105   505.242105    0.079737   3344.063158   \n",
       "std     11348.529219    0.107894  1052.202922    0.052859   6524.606753   \n",
       "min         2.000000    0.050000     0.000000    0.000000      1.000000   \n",
       "25%       264.500000    0.192500    24.000000    0.050000    188.500000   \n",
       "50%       930.000000    0.285000    70.500000    0.070000    563.500000   \n",
       "75%      4190.500000    0.360000   428.250000    0.100000   2967.000000   \n",
       "max     99526.000000    0.470000  7563.000000    0.500000  43542.000000   \n",
       "\n",
       "               CPC       Revenue    Sale Amount          P&L  \n",
       "count   190.000000    190.000000     190.000000   190.000000  \n",
       "unique         NaN           NaN            NaN          NaN  \n",
       "top            NaN           NaN            NaN          NaN  \n",
       "freq           NaN           NaN            NaN          NaN  \n",
       "mean      0.791263   2957.684211   63416.180579  -386.361916  \n",
       "std       0.403312   5962.413097  125414.656922   903.073776  \n",
       "min       0.140000      0.000000       0.000000 -5672.271000  \n",
       "25%       0.480000    144.500000    2985.135000  -294.977500  \n",
       "50%       0.635000    459.500000   10274.105000   -75.978000  \n",
       "75%       1.107500   2672.250000   59345.195000    -6.027500  \n",
       "max       2.020000  42440.000000  886095.310000  1507.685000  "
      ]
     },
     "execution_count": 33,
     "metadata": {},
     "output_type": "execute_result"
    }
   ],
   "source": [
    "data.describe(include='all')"
   ]
  },
  {
   "cell_type": "code",
   "execution_count": 12,
   "id": "24ca87ad",
   "metadata": {},
   "outputs": [
    {
     "data": {
      "text/plain": [
       "Index(['Ad Group', 'Month', 'Impressions', 'Clicks', 'CTR', 'Conversions',\n",
       "       'Conv Rate', 'Cost', 'CPC', 'Revenue', 'Sale Amount', 'P&L'],\n",
       "      dtype='object')"
      ]
     },
     "execution_count": 12,
     "metadata": {},
     "output_type": "execute_result"
    }
   ],
   "source": [
    "data.columns\n"
   ]
  },
  {
   "cell_type": "code",
   "execution_count": 28,
   "id": "a1ac9022",
   "metadata": {},
   "outputs": [
    {
     "data": {
      "text/plain": [
       "Ad Group                                Month      Impressions  Clicks  CTR   Conversions  Conv Rate  Cost  CPC   Revenue  Sale Amount  P&L     \n",
       "Shop - 1:1 - Desk - [shop coupon code]  August     12790        4983    0.39  897          0.10       6123  1.23  5590     123475.45    -532.537    1\n",
       "Shop - Phrase - Desk - Discount Code    August     1088         159     0.15  15           0.06       163   1.03  87       1955.08      -76.294     1\n",
       "Shop - Exact - Mob - Sale               September  8902         661     0.07  25           0.04       216   0.33  173      4259.42      -42.990     1\n",
       "Shop - Phrase - Desk - Competitor       August     35           3       0.09  0            0.00       1     0.62  0        0.00         -1.000      1\n",
       "                                        July       36           5       0.14  2            0.33       5     1.05  13       261.40        8.070      1\n",
       "                                                                                                                                                   ..\n",
       "Shop - Exact - Desk - Discount Code     September  1650         432     0.26  48           0.06       457   1.06  406      9718.82      -50.676     1\n",
       "Shop - Exact - Desk - Free Shipping     August     678          163     0.24  28           0.17       76    0.47  70       1509.18      -6.110      1\n",
       "                                        July       656          168     0.26  29           0.17       65    0.39  84       2097.29       19.218     1\n",
       "                                        November   1805         354     0.20  55           0.14       134   0.38  95       2156.07      -38.959     1\n",
       "Shop - Phrase - Mob - Sale              September  6444         593     0.09  27           0.05       231   0.39  221      5500.50      -9.519      1\n",
       "Length: 190, dtype: int64"
      ]
     },
     "execution_count": 28,
     "metadata": {},
     "output_type": "execute_result"
    }
   ],
   "source": [
    "data.value_counts()"
   ]
  },
  {
   "cell_type": "code",
   "execution_count": 29,
   "id": "45213272",
   "metadata": {},
   "outputs": [
    {
     "data": {
      "text/plain": [
       "Shop - 1:1 - Desk - [shop coupon code]             5\n",
       "Shop - Phrase - Desk - Promo Code                  5\n",
       "Shop - Exact - Mob - Offer                         5\n",
       "Shop - Exact - Mob - Promo Code                    5\n",
       "Shop - Exact - Mob - Sale                          5\n",
       "Shop - Phrase - Desk - Coupon Code                 5\n",
       "Shop - Phrase - Desk - Discount Code               5\n",
       "Shop - Phrase - Desk - Free Shipping               5\n",
       "Shop - Phrase - Desk - Offer                       5\n",
       "Shop - Phrase - Desk - Sale                        5\n",
       "Shop - Exact - Mob - Discount Code                 5\n",
       "Shop - Phrase - Mob - Competitor                   5\n",
       "Shop - Phrase - Mob - Coupon Code                  5\n",
       "Shop - Phrase - Mob - Discount Code                5\n",
       "Shop - Phrase - Mob - Free Shipping                5\n",
       "Shop - Phrase - Mob - Offer                        5\n",
       "Shop - Phrase - Mob - Promo Code                   5\n",
       "Shop - Phrase - Mob - Sale                         5\n",
       "Shop - 1:1 - Desk - [shop coupon]                  5\n",
       "Shop - Exact - Mob - Free Shipping                 5\n",
       "Shop - Exact - Mob - Coupon Code                   5\n",
       "Shop - Exact - Mob - Competitor                    5\n",
       "Shop - 1:1 - Desk - [shop discount code]           5\n",
       "Shop - 1:1 - Desk - [shop promo code]              5\n",
       "Shop - 1:1 - Desk - [shop promo]                   5\n",
       "Shop - 1:1 - Mob - [shop coupon code]              5\n",
       "Shop - 1:1 - Mob - [shop coupon]                   5\n",
       "Shop - 1:1 - Mob - [shop discount code]            5\n",
       "Shop - 1:1 - Mob - [shop promo code]               5\n",
       "Shop - 1:1 - Mob - [shop promo]                    5\n",
       "Shop - Exact - Desk - Competitor                   5\n",
       "Shop - Exact - Desk - Coupon Code                  5\n",
       "Shop - Exact - Desk - Discount Code                5\n",
       "Shop - Exact - Desk - Free Shipping                5\n",
       "Shop - Exact - Desk - Offer                        5\n",
       "Shop - Exact - Desk - Promo Code                   5\n",
       "Shop - Exact - Desk - Sale                         5\n",
       "Shop - Phrase - Desk - Competitor                  3\n",
       "Shop - Exact - Desk - Black Friday/Cyber Monday    1\n",
       "Shop - Exact - Mob - Black Friday/Cyber Monday     1\n",
       "Name: Ad Group, dtype: int64"
      ]
     },
     "execution_count": 29,
     "metadata": {},
     "output_type": "execute_result"
    }
   ],
   "source": [
    "data['Ad Group'].value_counts()"
   ]
  },
  {
   "cell_type": "code",
   "execution_count": 61,
   "id": "43380532",
   "metadata": {},
   "outputs": [
    {
     "data": {
      "text/html": [
       "<div>\n",
       "<style scoped>\n",
       "    .dataframe tbody tr th:only-of-type {\n",
       "        vertical-align: middle;\n",
       "    }\n",
       "\n",
       "    .dataframe tbody tr th {\n",
       "        vertical-align: top;\n",
       "    }\n",
       "\n",
       "    .dataframe thead th {\n",
       "        text-align: right;\n",
       "    }\n",
       "</style>\n",
       "<table border=\"1\" class=\"dataframe\">\n",
       "  <thead>\n",
       "    <tr style=\"text-align: right;\">\n",
       "      <th></th>\n",
       "      <th>Month</th>\n",
       "    </tr>\n",
       "  </thead>\n",
       "  <tbody>\n",
       "    <tr>\n",
       "      <th>November</th>\n",
       "      <td>39</td>\n",
       "    </tr>\n",
       "    <tr>\n",
       "      <th>July</th>\n",
       "      <td>38</td>\n",
       "    </tr>\n",
       "    <tr>\n",
       "      <th>August</th>\n",
       "      <td>38</td>\n",
       "    </tr>\n",
       "    <tr>\n",
       "      <th>September</th>\n",
       "      <td>38</td>\n",
       "    </tr>\n",
       "    <tr>\n",
       "      <th>October</th>\n",
       "      <td>37</td>\n",
       "    </tr>\n",
       "  </tbody>\n",
       "</table>\n",
       "</div>"
      ],
      "text/plain": [
       "           Month\n",
       "November      39\n",
       "July          38\n",
       "August        38\n",
       "September     38\n",
       "October       37"
      ]
     },
     "execution_count": 61,
     "metadata": {},
     "output_type": "execute_result"
    }
   ],
   "source": [
    "data['Month'].value_counts().to_frame()"
   ]
  },
  {
   "cell_type": "code",
   "execution_count": 37,
   "id": "11a9d09b",
   "metadata": {},
   "outputs": [
    {
     "data": {
      "text/plain": [
       "0"
      ]
     },
     "execution_count": 37,
     "metadata": {},
     "output_type": "execute_result"
    }
   ],
   "source": [
    "data['Month'].isna().sum()"
   ]
  },
  {
   "cell_type": "code",
   "execution_count": 47,
   "id": "4e8776ec",
   "metadata": {},
   "outputs": [
    {
     "data": {
      "text/html": [
       "<div>\n",
       "<style scoped>\n",
       "    .dataframe tbody tr th:only-of-type {\n",
       "        vertical-align: middle;\n",
       "    }\n",
       "\n",
       "    .dataframe tbody tr th {\n",
       "        vertical-align: top;\n",
       "    }\n",
       "\n",
       "    .dataframe thead th {\n",
       "        text-align: right;\n",
       "    }\n",
       "</style>\n",
       "<table border=\"1\" class=\"dataframe\">\n",
       "  <thead>\n",
       "    <tr style=\"text-align: right;\">\n",
       "      <th></th>\n",
       "      <th>Ad Group</th>\n",
       "      <th>Month</th>\n",
       "      <th>Impressions</th>\n",
       "      <th>Clicks</th>\n",
       "      <th>CTR</th>\n",
       "      <th>Conversions</th>\n",
       "      <th>Conv Rate</th>\n",
       "      <th>Cost</th>\n",
       "      <th>CPC</th>\n",
       "      <th>Revenue</th>\n",
       "      <th>Sale Amount</th>\n",
       "      <th>P&amp;L</th>\n",
       "    </tr>\n",
       "  </thead>\n",
       "  <tbody>\n",
       "    <tr>\n",
       "      <th>151</th>\n",
       "      <td>Shop - 1:1 - Mob - [shop coupon]</td>\n",
       "      <td>November</td>\n",
       "      <td>276568</td>\n",
       "      <td>99526</td>\n",
       "      <td>0.36</td>\n",
       "      <td>5961</td>\n",
       "      <td>0.05</td>\n",
       "      <td>38273</td>\n",
       "      <td>0.38</td>\n",
       "      <td>32668</td>\n",
       "      <td>677188.10</td>\n",
       "      <td>-5605.297</td>\n",
       "    </tr>\n",
       "    <tr>\n",
       "      <th>152</th>\n",
       "      <td>Shop - 1:1 - Desk - [shop coupon]</td>\n",
       "      <td>November</td>\n",
       "      <td>73448</td>\n",
       "      <td>25283</td>\n",
       "      <td>0.34</td>\n",
       "      <td>4080</td>\n",
       "      <td>0.10</td>\n",
       "      <td>27336</td>\n",
       "      <td>1.08</td>\n",
       "      <td>23857</td>\n",
       "      <td>497790.81</td>\n",
       "      <td>-3478.644</td>\n",
       "    </tr>\n",
       "    <tr>\n",
       "      <th>153</th>\n",
       "      <td>Shop - 1:1 - Desk - [shop promo code]</td>\n",
       "      <td>November</td>\n",
       "      <td>64067</td>\n",
       "      <td>23538</td>\n",
       "      <td>0.37</td>\n",
       "      <td>5782</td>\n",
       "      <td>0.15</td>\n",
       "      <td>37729</td>\n",
       "      <td>1.60</td>\n",
       "      <td>34518</td>\n",
       "      <td>725773.92</td>\n",
       "      <td>-3211.121</td>\n",
       "    </tr>\n",
       "    <tr>\n",
       "      <th>154</th>\n",
       "      <td>Shop - Exact - Mob - Sale</td>\n",
       "      <td>November</td>\n",
       "      <td>15422</td>\n",
       "      <td>2078</td>\n",
       "      <td>0.13</td>\n",
       "      <td>62</td>\n",
       "      <td>0.03</td>\n",
       "      <td>2597</td>\n",
       "      <td>1.25</td>\n",
       "      <td>427</td>\n",
       "      <td>8733.41</td>\n",
       "      <td>-2170.044</td>\n",
       "    </tr>\n",
       "    <tr>\n",
       "      <th>155</th>\n",
       "      <td>Shop - 1:1 - Desk - [shop coupon code]</td>\n",
       "      <td>November</td>\n",
       "      <td>38523</td>\n",
       "      <td>14393</td>\n",
       "      <td>0.37</td>\n",
       "      <td>2713</td>\n",
       "      <td>0.12</td>\n",
       "      <td>18641</td>\n",
       "      <td>1.30</td>\n",
       "      <td>16555</td>\n",
       "      <td>345891.36</td>\n",
       "      <td>-2086.300</td>\n",
       "    </tr>\n",
       "  </tbody>\n",
       "</table>\n",
       "</div>"
      ],
      "text/plain": [
       "                                   Ad Group     Month  Impressions  Clicks  \\\n",
       "151        Shop - 1:1 - Mob - [shop coupon]  November       276568   99526   \n",
       "152       Shop - 1:1 - Desk - [shop coupon]  November        73448   25283   \n",
       "153   Shop - 1:1 - Desk - [shop promo code]  November        64067   23538   \n",
       "154               Shop - Exact - Mob - Sale  November        15422    2078   \n",
       "155  Shop - 1:1 - Desk - [shop coupon code]  November        38523   14393   \n",
       "\n",
       "      CTR  Conversions  Conv Rate   Cost   CPC  Revenue  Sale Amount       P&L  \n",
       "151  0.36         5961       0.05  38273  0.38    32668    677188.10 -5605.297  \n",
       "152  0.34         4080       0.10  27336  1.08    23857    497790.81 -3478.644  \n",
       "153  0.37         5782       0.15  37729  1.60    34518    725773.92 -3211.121  \n",
       "154  0.13           62       0.03   2597  1.25      427      8733.41 -2170.044  \n",
       "155  0.37         2713       0.12  18641  1.30    16555    345891.36 -2086.300  "
      ]
     },
     "execution_count": 47,
     "metadata": {},
     "output_type": "execute_result"
    }
   ],
   "source": [
    "data.groupby('Month').get_group('November').head()"
   ]
  },
  {
   "cell_type": "code",
   "execution_count": 48,
   "id": "297d25cb",
   "metadata": {},
   "outputs": [
    {
     "data": {
      "text/html": [
       "<div>\n",
       "<style scoped>\n",
       "    .dataframe tbody tr th:only-of-type {\n",
       "        vertical-align: middle;\n",
       "    }\n",
       "\n",
       "    .dataframe tbody tr th {\n",
       "        vertical-align: top;\n",
       "    }\n",
       "\n",
       "    .dataframe thead th {\n",
       "        text-align: right;\n",
       "    }\n",
       "</style>\n",
       "<table border=\"1\" class=\"dataframe\">\n",
       "  <thead>\n",
       "    <tr style=\"text-align: right;\">\n",
       "      <th></th>\n",
       "      <th>Ad Group</th>\n",
       "      <th>Month</th>\n",
       "      <th>Impressions</th>\n",
       "      <th>Clicks</th>\n",
       "      <th>CTR</th>\n",
       "      <th>Conversions</th>\n",
       "      <th>Conv Rate</th>\n",
       "      <th>Cost</th>\n",
       "      <th>CPC</th>\n",
       "      <th>Revenue</th>\n",
       "      <th>Sale Amount</th>\n",
       "      <th>P&amp;L</th>\n",
       "    </tr>\n",
       "  </thead>\n",
       "  <tbody>\n",
       "    <tr>\n",
       "      <th>0</th>\n",
       "      <td>Shop - 1:1 - Desk - [shop coupon code]</td>\n",
       "      <td>July</td>\n",
       "      <td>16038</td>\n",
       "      <td>6504</td>\n",
       "      <td>0.41</td>\n",
       "      <td>1166</td>\n",
       "      <td>0.10</td>\n",
       "      <td>6669</td>\n",
       "      <td>1.03</td>\n",
       "      <td>6402</td>\n",
       "      <td>136770.05</td>\n",
       "      <td>-267.086</td>\n",
       "    </tr>\n",
       "    <tr>\n",
       "      <th>1</th>\n",
       "      <td>Shop - 1:1 - Desk - [shop coupon]</td>\n",
       "      <td>July</td>\n",
       "      <td>36462</td>\n",
       "      <td>14367</td>\n",
       "      <td>0.39</td>\n",
       "      <td>2188</td>\n",
       "      <td>0.09</td>\n",
       "      <td>13746</td>\n",
       "      <td>0.96</td>\n",
       "      <td>13262</td>\n",
       "      <td>283215.21</td>\n",
       "      <td>-483.951</td>\n",
       "    </tr>\n",
       "    <tr>\n",
       "      <th>2</th>\n",
       "      <td>Shop - 1:1 - Desk - [shop discount code]</td>\n",
       "      <td>July</td>\n",
       "      <td>3635</td>\n",
       "      <td>1458</td>\n",
       "      <td>0.40</td>\n",
       "      <td>248</td>\n",
       "      <td>0.09</td>\n",
       "      <td>1606</td>\n",
       "      <td>1.10</td>\n",
       "      <td>1723</td>\n",
       "      <td>39165.46</td>\n",
       "      <td>117.136</td>\n",
       "    </tr>\n",
       "    <tr>\n",
       "      <th>3</th>\n",
       "      <td>Shop - 1:1 - Desk - [shop promo code]</td>\n",
       "      <td>July</td>\n",
       "      <td>26185</td>\n",
       "      <td>10418</td>\n",
       "      <td>0.40</td>\n",
       "      <td>2294</td>\n",
       "      <td>0.12</td>\n",
       "      <td>13278</td>\n",
       "      <td>1.27</td>\n",
       "      <td>13042</td>\n",
       "      <td>284823.48</td>\n",
       "      <td>-235.921</td>\n",
       "    </tr>\n",
       "    <tr>\n",
       "      <th>4</th>\n",
       "      <td>Shop - 1:1 - Desk - [shop promo]</td>\n",
       "      <td>July</td>\n",
       "      <td>808</td>\n",
       "      <td>282</td>\n",
       "      <td>0.35</td>\n",
       "      <td>61</td>\n",
       "      <td>0.15</td>\n",
       "      <td>391</td>\n",
       "      <td>1.39</td>\n",
       "      <td>337</td>\n",
       "      <td>7717.77</td>\n",
       "      <td>-53.604</td>\n",
       "    </tr>\n",
       "  </tbody>\n",
       "</table>\n",
       "</div>"
      ],
      "text/plain": [
       "                                   Ad Group Month  Impressions  Clicks   CTR  \\\n",
       "0    Shop - 1:1 - Desk - [shop coupon code]  July        16038    6504  0.41   \n",
       "1         Shop - 1:1 - Desk - [shop coupon]  July        36462   14367  0.39   \n",
       "2  Shop - 1:1 - Desk - [shop discount code]  July         3635    1458  0.40   \n",
       "3     Shop - 1:1 - Desk - [shop promo code]  July        26185   10418  0.40   \n",
       "4          Shop - 1:1 - Desk - [shop promo]  July          808     282  0.35   \n",
       "\n",
       "   Conversions  Conv Rate   Cost   CPC  Revenue  Sale Amount      P&L  \n",
       "0         1166       0.10   6669  1.03     6402    136770.05 -267.086  \n",
       "1         2188       0.09  13746  0.96    13262    283215.21 -483.951  \n",
       "2          248       0.09   1606  1.10     1723     39165.46  117.136  \n",
       "3         2294       0.12  13278  1.27    13042    284823.48 -235.921  \n",
       "4           61       0.15    391  1.39      337      7717.77  -53.604  "
      ]
     },
     "execution_count": 48,
     "metadata": {},
     "output_type": "execute_result"
    }
   ],
   "source": [
    "data.groupby('Month').get_group('July').head()"
   ]
  },
  {
   "cell_type": "code",
   "execution_count": 58,
   "id": "8812d06b",
   "metadata": {},
   "outputs": [
    {
     "data": {
      "text/html": [
       "<div>\n",
       "<style scoped>\n",
       "    .dataframe tbody tr th:only-of-type {\n",
       "        vertical-align: middle;\n",
       "    }\n",
       "\n",
       "    .dataframe tbody tr th {\n",
       "        vertical-align: top;\n",
       "    }\n",
       "\n",
       "    .dataframe thead th {\n",
       "        text-align: right;\n",
       "    }\n",
       "</style>\n",
       "<table border=\"1\" class=\"dataframe\">\n",
       "  <thead>\n",
       "    <tr style=\"text-align: right;\">\n",
       "      <th></th>\n",
       "      <th>Ad Group</th>\n",
       "      <th>Month</th>\n",
       "      <th>Impressions</th>\n",
       "      <th>Clicks</th>\n",
       "      <th>CTR</th>\n",
       "      <th>Conversions</th>\n",
       "      <th>Conv Rate</th>\n",
       "      <th>Cost</th>\n",
       "      <th>CPC</th>\n",
       "      <th>Revenue</th>\n",
       "      <th>Sale Amount</th>\n",
       "      <th>P&amp;L</th>\n",
       "    </tr>\n",
       "  </thead>\n",
       "  <tbody>\n",
       "    <tr>\n",
       "      <th>38</th>\n",
       "      <td>Shop - 1:1 - Mob - [shop promo code]</td>\n",
       "      <td>August</td>\n",
       "      <td>40627</td>\n",
       "      <td>17655</td>\n",
       "      <td>0.43</td>\n",
       "      <td>1968</td>\n",
       "      <td>0.07</td>\n",
       "      <td>12262</td>\n",
       "      <td>0.69</td>\n",
       "      <td>10303</td>\n",
       "      <td>230817.79</td>\n",
       "      <td>-1958.963</td>\n",
       "    </tr>\n",
       "    <tr>\n",
       "      <th>39</th>\n",
       "      <td>Shop - 1:1 - Desk - [shop promo code]</td>\n",
       "      <td>August</td>\n",
       "      <td>19648</td>\n",
       "      <td>7673</td>\n",
       "      <td>0.39</td>\n",
       "      <td>1622</td>\n",
       "      <td>0.11</td>\n",
       "      <td>11235</td>\n",
       "      <td>1.46</td>\n",
       "      <td>9928</td>\n",
       "      <td>216628.45</td>\n",
       "      <td>-1307.273</td>\n",
       "    </tr>\n",
       "    <tr>\n",
       "      <th>40</th>\n",
       "      <td>Shop - 1:1 - Mob - [shop coupon]</td>\n",
       "      <td>August</td>\n",
       "      <td>105966</td>\n",
       "      <td>32005</td>\n",
       "      <td>0.30</td>\n",
       "      <td>1530</td>\n",
       "      <td>0.04</td>\n",
       "      <td>10713</td>\n",
       "      <td>0.33</td>\n",
       "      <td>8473</td>\n",
       "      <td>185757.89</td>\n",
       "      <td>-2240.076</td>\n",
       "    </tr>\n",
       "    <tr>\n",
       "      <th>41</th>\n",
       "      <td>Shop - 1:1 - Desk - [shop coupon]</td>\n",
       "      <td>August</td>\n",
       "      <td>28499</td>\n",
       "      <td>10141</td>\n",
       "      <td>0.36</td>\n",
       "      <td>1509</td>\n",
       "      <td>0.08</td>\n",
       "      <td>10586</td>\n",
       "      <td>1.04</td>\n",
       "      <td>8859</td>\n",
       "      <td>192105.72</td>\n",
       "      <td>-1727.135</td>\n",
       "    </tr>\n",
       "    <tr>\n",
       "      <th>42</th>\n",
       "      <td>Shop - 1:1 - Mob - [shop coupon code]</td>\n",
       "      <td>August</td>\n",
       "      <td>34189</td>\n",
       "      <td>13905</td>\n",
       "      <td>0.41</td>\n",
       "      <td>1218</td>\n",
       "      <td>0.06</td>\n",
       "      <td>8146</td>\n",
       "      <td>0.59</td>\n",
       "      <td>6766</td>\n",
       "      <td>148681.16</td>\n",
       "      <td>-1380.324</td>\n",
       "    </tr>\n",
       "  </tbody>\n",
       "</table>\n",
       "</div>"
      ],
      "text/plain": [
       "                                 Ad Group   Month  Impressions  Clicks   CTR  \\\n",
       "38   Shop - 1:1 - Mob - [shop promo code]  August        40627   17655  0.43   \n",
       "39  Shop - 1:1 - Desk - [shop promo code]  August        19648    7673  0.39   \n",
       "40       Shop - 1:1 - Mob - [shop coupon]  August       105966   32005  0.30   \n",
       "41      Shop - 1:1 - Desk - [shop coupon]  August        28499   10141  0.36   \n",
       "42  Shop - 1:1 - Mob - [shop coupon code]  August        34189   13905  0.41   \n",
       "\n",
       "    Conversions  Conv Rate   Cost   CPC  Revenue  Sale Amount       P&L  \n",
       "38         1968       0.07  12262  0.69    10303    230817.79 -1958.963  \n",
       "39         1622       0.11  11235  1.46     9928    216628.45 -1307.273  \n",
       "40         1530       0.04  10713  0.33     8473    185757.89 -2240.076  \n",
       "41         1509       0.08  10586  1.04     8859    192105.72 -1727.135  \n",
       "42         1218       0.06   8146  0.59     6766    148681.16 -1380.324  "
      ]
     },
     "execution_count": 58,
     "metadata": {},
     "output_type": "execute_result"
    }
   ],
   "source": [
    "data.groupby('Month').get_group('August').head()"
   ]
  },
  {
   "cell_type": "code",
   "execution_count": 51,
   "id": "b12084ba",
   "metadata": {},
   "outputs": [
    {
     "data": {
      "text/html": [
       "<div>\n",
       "<style scoped>\n",
       "    .dataframe tbody tr th:only-of-type {\n",
       "        vertical-align: middle;\n",
       "    }\n",
       "\n",
       "    .dataframe tbody tr th {\n",
       "        vertical-align: top;\n",
       "    }\n",
       "\n",
       "    .dataframe thead th {\n",
       "        text-align: right;\n",
       "    }\n",
       "</style>\n",
       "<table border=\"1\" class=\"dataframe\">\n",
       "  <thead>\n",
       "    <tr style=\"text-align: right;\">\n",
       "      <th></th>\n",
       "      <th>Ad Group</th>\n",
       "      <th>Month</th>\n",
       "      <th>Impressions</th>\n",
       "      <th>Clicks</th>\n",
       "      <th>CTR</th>\n",
       "      <th>Conversions</th>\n",
       "      <th>Conv Rate</th>\n",
       "      <th>Cost</th>\n",
       "      <th>CPC</th>\n",
       "      <th>Revenue</th>\n",
       "      <th>Sale Amount</th>\n",
       "      <th>P&amp;L</th>\n",
       "    </tr>\n",
       "  </thead>\n",
       "  <tbody>\n",
       "    <tr>\n",
       "      <th>76</th>\n",
       "      <td>Shop - 1:1 - Mob - [shop coupon]</td>\n",
       "      <td>September</td>\n",
       "      <td>90806</td>\n",
       "      <td>40622</td>\n",
       "      <td>0.45</td>\n",
       "      <td>1421</td>\n",
       "      <td>0.03</td>\n",
       "      <td>10904</td>\n",
       "      <td>0.27</td>\n",
       "      <td>7891</td>\n",
       "      <td>170418.87</td>\n",
       "      <td>-3012.910</td>\n",
       "    </tr>\n",
       "    <tr>\n",
       "      <th>77</th>\n",
       "      <td>Shop - 1:1 - Mob - [shop promo code]</td>\n",
       "      <td>September</td>\n",
       "      <td>32462</td>\n",
       "      <td>14427</td>\n",
       "      <td>0.44</td>\n",
       "      <td>1510</td>\n",
       "      <td>0.06</td>\n",
       "      <td>9562</td>\n",
       "      <td>0.66</td>\n",
       "      <td>8838</td>\n",
       "      <td>196210.87</td>\n",
       "      <td>-724.153</td>\n",
       "    </tr>\n",
       "    <tr>\n",
       "      <th>78</th>\n",
       "      <td>Shop - 1:1 - Desk - [shop promo code]</td>\n",
       "      <td>September</td>\n",
       "      <td>15673</td>\n",
       "      <td>6199</td>\n",
       "      <td>0.40</td>\n",
       "      <td>1242</td>\n",
       "      <td>0.11</td>\n",
       "      <td>9163</td>\n",
       "      <td>1.48</td>\n",
       "      <td>7264</td>\n",
       "      <td>158674.10</td>\n",
       "      <td>-1899.421</td>\n",
       "    </tr>\n",
       "    <tr>\n",
       "      <th>79</th>\n",
       "      <td>Shop - 1:1 - Desk - [shop coupon]</td>\n",
       "      <td>September</td>\n",
       "      <td>20879</td>\n",
       "      <td>8135</td>\n",
       "      <td>0.39</td>\n",
       "      <td>1034</td>\n",
       "      <td>0.07</td>\n",
       "      <td>8069</td>\n",
       "      <td>0.99</td>\n",
       "      <td>6153</td>\n",
       "      <td>132508.12</td>\n",
       "      <td>-1915.530</td>\n",
       "    </tr>\n",
       "    <tr>\n",
       "      <th>80</th>\n",
       "      <td>Shop - 1:1 - Mob - [shop coupon code]</td>\n",
       "      <td>September</td>\n",
       "      <td>26710</td>\n",
       "      <td>11918</td>\n",
       "      <td>0.45</td>\n",
       "      <td>921</td>\n",
       "      <td>0.05</td>\n",
       "      <td>6628</td>\n",
       "      <td>0.56</td>\n",
       "      <td>5604</td>\n",
       "      <td>124194.91</td>\n",
       "      <td>-1023.587</td>\n",
       "    </tr>\n",
       "  </tbody>\n",
       "</table>\n",
       "</div>"
      ],
      "text/plain": [
       "                                 Ad Group      Month  Impressions  Clicks  \\\n",
       "76       Shop - 1:1 - Mob - [shop coupon]  September        90806   40622   \n",
       "77   Shop - 1:1 - Mob - [shop promo code]  September        32462   14427   \n",
       "78  Shop - 1:1 - Desk - [shop promo code]  September        15673    6199   \n",
       "79      Shop - 1:1 - Desk - [shop coupon]  September        20879    8135   \n",
       "80  Shop - 1:1 - Mob - [shop coupon code]  September        26710   11918   \n",
       "\n",
       "     CTR  Conversions  Conv Rate   Cost   CPC  Revenue  Sale Amount       P&L  \n",
       "76  0.45         1421       0.03  10904  0.27     7891    170418.87 -3012.910  \n",
       "77  0.44         1510       0.06   9562  0.66     8838    196210.87  -724.153  \n",
       "78  0.40         1242       0.11   9163  1.48     7264    158674.10 -1899.421  \n",
       "79  0.39         1034       0.07   8069  0.99     6153    132508.12 -1915.530  \n",
       "80  0.45          921       0.05   6628  0.56     5604    124194.91 -1023.587  "
      ]
     },
     "execution_count": 51,
     "metadata": {},
     "output_type": "execute_result"
    }
   ],
   "source": [
    "data.groupby('Month').get_group('September').head()"
   ]
  },
  {
   "cell_type": "code",
   "execution_count": 52,
   "id": "a62487c9",
   "metadata": {},
   "outputs": [
    {
     "data": {
      "text/html": [
       "<div>\n",
       "<style scoped>\n",
       "    .dataframe tbody tr th:only-of-type {\n",
       "        vertical-align: middle;\n",
       "    }\n",
       "\n",
       "    .dataframe tbody tr th {\n",
       "        vertical-align: top;\n",
       "    }\n",
       "\n",
       "    .dataframe thead th {\n",
       "        text-align: right;\n",
       "    }\n",
       "</style>\n",
       "<table border=\"1\" class=\"dataframe\">\n",
       "  <thead>\n",
       "    <tr style=\"text-align: right;\">\n",
       "      <th></th>\n",
       "      <th>Ad Group</th>\n",
       "      <th>Month</th>\n",
       "      <th>Impressions</th>\n",
       "      <th>Clicks</th>\n",
       "      <th>CTR</th>\n",
       "      <th>Conversions</th>\n",
       "      <th>Conv Rate</th>\n",
       "      <th>Cost</th>\n",
       "      <th>CPC</th>\n",
       "      <th>Revenue</th>\n",
       "      <th>Sale Amount</th>\n",
       "      <th>P&amp;L</th>\n",
       "    </tr>\n",
       "  </thead>\n",
       "  <tbody>\n",
       "    <tr>\n",
       "      <th>114</th>\n",
       "      <td>Shop - 1:1 - Mob - [shop coupon]</td>\n",
       "      <td>October</td>\n",
       "      <td>93406</td>\n",
       "      <td>36068</td>\n",
       "      <td>0.39</td>\n",
       "      <td>2444</td>\n",
       "      <td>0.05</td>\n",
       "      <td>12236</td>\n",
       "      <td>0.34</td>\n",
       "      <td>13744</td>\n",
       "      <td>285638.30</td>\n",
       "      <td>1507.685</td>\n",
       "    </tr>\n",
       "    <tr>\n",
       "      <th>115</th>\n",
       "      <td>Shop - 1:1 - Mob - [shop promo code]</td>\n",
       "      <td>October</td>\n",
       "      <td>34929</td>\n",
       "      <td>15595</td>\n",
       "      <td>0.45</td>\n",
       "      <td>2193</td>\n",
       "      <td>0.09</td>\n",
       "      <td>11258</td>\n",
       "      <td>0.72</td>\n",
       "      <td>12025</td>\n",
       "      <td>252296.27</td>\n",
       "      <td>766.859</td>\n",
       "    </tr>\n",
       "    <tr>\n",
       "      <th>116</th>\n",
       "      <td>Shop - 1:1 - Desk - [shop promo code]</td>\n",
       "      <td>October</td>\n",
       "      <td>16953</td>\n",
       "      <td>6484</td>\n",
       "      <td>0.38</td>\n",
       "      <td>1499</td>\n",
       "      <td>0.12</td>\n",
       "      <td>10080</td>\n",
       "      <td>1.55</td>\n",
       "      <td>9553</td>\n",
       "      <td>210096.13</td>\n",
       "      <td>-527.249</td>\n",
       "    </tr>\n",
       "    <tr>\n",
       "      <th>117</th>\n",
       "      <td>Shop - 1:1 - Desk - [shop coupon]</td>\n",
       "      <td>October</td>\n",
       "      <td>24598</td>\n",
       "      <td>8693</td>\n",
       "      <td>0.35</td>\n",
       "      <td>1421</td>\n",
       "      <td>0.09</td>\n",
       "      <td>9461</td>\n",
       "      <td>1.09</td>\n",
       "      <td>8186</td>\n",
       "      <td>171724.63</td>\n",
       "      <td>-1274.747</td>\n",
       "    </tr>\n",
       "    <tr>\n",
       "      <th>118</th>\n",
       "      <td>Shop - 1:1 - Mob - [shop coupon code]</td>\n",
       "      <td>October</td>\n",
       "      <td>28102</td>\n",
       "      <td>12485</td>\n",
       "      <td>0.44</td>\n",
       "      <td>1393</td>\n",
       "      <td>0.07</td>\n",
       "      <td>7192</td>\n",
       "      <td>0.58</td>\n",
       "      <td>7955</td>\n",
       "      <td>166656.05</td>\n",
       "      <td>762.921</td>\n",
       "    </tr>\n",
       "  </tbody>\n",
       "</table>\n",
       "</div>"
      ],
      "text/plain": [
       "                                  Ad Group    Month  Impressions  Clicks  \\\n",
       "114       Shop - 1:1 - Mob - [shop coupon]  October        93406   36068   \n",
       "115   Shop - 1:1 - Mob - [shop promo code]  October        34929   15595   \n",
       "116  Shop - 1:1 - Desk - [shop promo code]  October        16953    6484   \n",
       "117      Shop - 1:1 - Desk - [shop coupon]  October        24598    8693   \n",
       "118  Shop - 1:1 - Mob - [shop coupon code]  October        28102   12485   \n",
       "\n",
       "      CTR  Conversions  Conv Rate   Cost   CPC  Revenue  Sale Amount       P&L  \n",
       "114  0.39         2444       0.05  12236  0.34    13744    285638.30  1507.685  \n",
       "115  0.45         2193       0.09  11258  0.72    12025    252296.27   766.859  \n",
       "116  0.38         1499       0.12  10080  1.55     9553    210096.13  -527.249  \n",
       "117  0.35         1421       0.09   9461  1.09     8186    171724.63 -1274.747  \n",
       "118  0.44         1393       0.07   7192  0.58     7955    166656.05   762.921  "
      ]
     },
     "execution_count": 52,
     "metadata": {},
     "output_type": "execute_result"
    }
   ],
   "source": [
    "data.groupby('Month').get_group('October').head()"
   ]
  },
  {
   "cell_type": "code",
   "execution_count": 53,
   "id": "79ab9c93",
   "metadata": {
    "scrolled": true
   },
   "outputs": [
    {
     "data": {
      "text/html": [
       "<div>\n",
       "<style scoped>\n",
       "    .dataframe tbody tr th:only-of-type {\n",
       "        vertical-align: middle;\n",
       "    }\n",
       "\n",
       "    .dataframe tbody tr th {\n",
       "        vertical-align: top;\n",
       "    }\n",
       "\n",
       "    .dataframe thead th {\n",
       "        text-align: right;\n",
       "    }\n",
       "</style>\n",
       "<table border=\"1\" class=\"dataframe\">\n",
       "  <thead>\n",
       "    <tr style=\"text-align: right;\">\n",
       "      <th></th>\n",
       "      <th>Ad Group</th>\n",
       "      <th>Month</th>\n",
       "      <th>Impressions</th>\n",
       "      <th>Clicks</th>\n",
       "      <th>CTR</th>\n",
       "      <th>Conversions</th>\n",
       "      <th>Conv Rate</th>\n",
       "      <th>Cost</th>\n",
       "      <th>CPC</th>\n",
       "      <th>Revenue</th>\n",
       "      <th>Sale Amount</th>\n",
       "      <th>P&amp;L</th>\n",
       "    </tr>\n",
       "  </thead>\n",
       "  <tbody>\n",
       "    <tr>\n",
       "      <th>1</th>\n",
       "      <td>Shop - 1:1 - Desk - [shop coupon]</td>\n",
       "      <td>July</td>\n",
       "      <td>36462</td>\n",
       "      <td>14367</td>\n",
       "      <td>0.39</td>\n",
       "      <td>2188</td>\n",
       "      <td>0.09</td>\n",
       "      <td>13746</td>\n",
       "      <td>0.96</td>\n",
       "      <td>13262</td>\n",
       "      <td>283215.21</td>\n",
       "      <td>-483.951</td>\n",
       "    </tr>\n",
       "    <tr>\n",
       "      <th>41</th>\n",
       "      <td>Shop - 1:1 - Desk - [shop coupon]</td>\n",
       "      <td>August</td>\n",
       "      <td>28499</td>\n",
       "      <td>10141</td>\n",
       "      <td>0.36</td>\n",
       "      <td>1509</td>\n",
       "      <td>0.08</td>\n",
       "      <td>10586</td>\n",
       "      <td>1.04</td>\n",
       "      <td>8859</td>\n",
       "      <td>192105.72</td>\n",
       "      <td>-1727.135</td>\n",
       "    </tr>\n",
       "    <tr>\n",
       "      <th>79</th>\n",
       "      <td>Shop - 1:1 - Desk - [shop coupon]</td>\n",
       "      <td>September</td>\n",
       "      <td>20879</td>\n",
       "      <td>8135</td>\n",
       "      <td>0.39</td>\n",
       "      <td>1034</td>\n",
       "      <td>0.07</td>\n",
       "      <td>8069</td>\n",
       "      <td>0.99</td>\n",
       "      <td>6153</td>\n",
       "      <td>132508.12</td>\n",
       "      <td>-1915.530</td>\n",
       "    </tr>\n",
       "    <tr>\n",
       "      <th>117</th>\n",
       "      <td>Shop - 1:1 - Desk - [shop coupon]</td>\n",
       "      <td>October</td>\n",
       "      <td>24598</td>\n",
       "      <td>8693</td>\n",
       "      <td>0.35</td>\n",
       "      <td>1421</td>\n",
       "      <td>0.09</td>\n",
       "      <td>9461</td>\n",
       "      <td>1.09</td>\n",
       "      <td>8186</td>\n",
       "      <td>171724.63</td>\n",
       "      <td>-1274.747</td>\n",
       "    </tr>\n",
       "    <tr>\n",
       "      <th>152</th>\n",
       "      <td>Shop - 1:1 - Desk - [shop coupon]</td>\n",
       "      <td>November</td>\n",
       "      <td>73448</td>\n",
       "      <td>25283</td>\n",
       "      <td>0.34</td>\n",
       "      <td>4080</td>\n",
       "      <td>0.10</td>\n",
       "      <td>27336</td>\n",
       "      <td>1.08</td>\n",
       "      <td>23857</td>\n",
       "      <td>497790.81</td>\n",
       "      <td>-3478.644</td>\n",
       "    </tr>\n",
       "  </tbody>\n",
       "</table>\n",
       "</div>"
      ],
      "text/plain": [
       "                              Ad Group      Month  Impressions  Clicks   CTR  \\\n",
       "1    Shop - 1:1 - Desk - [shop coupon]       July        36462   14367  0.39   \n",
       "41   Shop - 1:1 - Desk - [shop coupon]     August        28499   10141  0.36   \n",
       "79   Shop - 1:1 - Desk - [shop coupon]  September        20879    8135  0.39   \n",
       "117  Shop - 1:1 - Desk - [shop coupon]    October        24598    8693  0.35   \n",
       "152  Shop - 1:1 - Desk - [shop coupon]   November        73448   25283  0.34   \n",
       "\n",
       "     Conversions  Conv Rate   Cost   CPC  Revenue  Sale Amount       P&L  \n",
       "1           2188       0.09  13746  0.96    13262    283215.21  -483.951  \n",
       "41          1509       0.08  10586  1.04     8859    192105.72 -1727.135  \n",
       "79          1034       0.07   8069  0.99     6153    132508.12 -1915.530  \n",
       "117         1421       0.09   9461  1.09     8186    171724.63 -1274.747  \n",
       "152         4080       0.10  27336  1.08    23857    497790.81 -3478.644  "
      ]
     },
     "execution_count": 53,
     "metadata": {},
     "output_type": "execute_result"
    }
   ],
   "source": [
    "data.groupby('Ad Group').get_group('Shop - 1:1 - Desk - [shop coupon]')"
   ]
  },
  {
   "cell_type": "code",
   "execution_count": 62,
   "id": "46445bb7",
   "metadata": {},
   "outputs": [],
   "source": [
    " # visualization for EDA"
   ]
  },
  {
   "cell_type": "code",
   "execution_count": 71,
   "id": "e907a179",
   "metadata": {},
   "outputs": [
    {
     "data": {
      "image/png": "[encoded data removed]",
      "text/plain": [
       "<Figure size 432x288 with 1 Axes>"
      ]
     },
     "metadata": {},
     "output_type": "display_data"
    }
   ],
   "source": [
    "plt.hist(data['Month'])\n",
    "plt.show()"
   ]
  },
  {
   "cell_type": "code",
   "execution_count": 86,
   "id": "7c3639c2",
   "metadata": {},
   "outputs": [
    {
     "data": {
      "image/png": "[encoded data removed]",
      "text/plain": [
       "<Figure size 720x576 with 1 Axes>"
      ]
     },
     "metadata": {},
     "output_type": "display_data"
    },
    {
     "data": {
      "text/plain": [
       "<Figure size 432x288 with 0 Axes>"
      ]
     },
     "metadata": {},
     "output_type": "display_data"
    }
   ],
   "source": [
    "plt.figure(figsize=(10,8))\n",
    "plt.hist(data['Sale Amount'],\n",
    "         bins=10, color='blue') \n",
    "plt.xlabel('Sale Amount')\n",
    "plt.ylabel('Months')\n",
    "plt.title('Histogram Analysing ')\n",
    "plt.show()\n",
    "sns.despine()"
   ]
  },
  {
   "cell_type": "code",
   "execution_count": 76,
   "id": "0dad6ba3",
   "metadata": {},
   "outputs": [
    {
     "data": {
      "text/plain": [
       "4865.805263157895"
      ]
     },
     "execution_count": 76,
     "metadata": {},
     "output_type": "execute_result"
    }
   ],
   "source": [
    "data['Clicks'].mean()"
   ]
  },
  {
   "cell_type": "code",
   "execution_count": 79,
   "id": "c35d25de",
   "metadata": {},
   "outputs": [
    {
     "data": {
      "text/html": [
       "<div>\n",
       "<style scoped>\n",
       "    .dataframe tbody tr th:only-of-type {\n",
       "        vertical-align: middle;\n",
       "    }\n",
       "\n",
       "    .dataframe tbody tr th {\n",
       "        vertical-align: top;\n",
       "    }\n",
       "\n",
       "    .dataframe thead th {\n",
       "        text-align: right;\n",
       "    }\n",
       "</style>\n",
       "<table border=\"1\" class=\"dataframe\">\n",
       "  <thead>\n",
       "    <tr style=\"text-align: right;\">\n",
       "      <th></th>\n",
       "      <th>Clicks</th>\n",
       "    </tr>\n",
       "  </thead>\n",
       "  <tbody>\n",
       "    <tr>\n",
       "      <th>0</th>\n",
       "      <td>9</td>\n",
       "    </tr>\n",
       "  </tbody>\n",
       "</table>\n",
       "</div>"
      ],
      "text/plain": [
       "   Clicks\n",
       "0       9"
      ]
     },
     "execution_count": 79,
     "metadata": {},
     "output_type": "execute_result"
    }
   ],
   "source": [
    "data['Clicks'].mode().to_frame()"
   ]
  },
  {
   "cell_type": "code",
   "execution_count": 106,
   "id": "d2e1e81b",
   "metadata": {
    "scrolled": true
   },
   "outputs": [
    {
     "data": {
      "image/png": "[encoded data removed]",
      "text/plain": [
       "<Figure size 720x576 with 1 Axes>"
      ]
     },
     "metadata": {},
     "output_type": "display_data"
    },
    {
     "data": {
      "text/plain": [
       "<Figure size 432x288 with 0 Axes>"
      ]
     },
     "metadata": {},
     "output_type": "display_data"
    }
   ],
   "source": [
    "plt.figure(figsize=(10,8))\n",
    "plt.hist(data['CTR'],\n",
    "         bins=10, color='blue') \n",
    "plt.xlabel('CTR')\n",
    "plt.ylabel('Clicks')\n",
    "plt.title('Histogram Analysing ')\n",
    "plt.show()\n",
    "sns.despine()"
   ]
  },
  {
   "cell_type": "code",
   "execution_count": 109,
   "id": "299cfa6d",
   "metadata": {},
   "outputs": [
    {
     "data": {
      "image/png": "[encoded data removed]",
      "text/plain": [
       "<Figure size 720x576 with 1 Axes>"
      ]
     },
     "metadata": {},
     "output_type": "display_data"
    },
    {
     "data": {
      "text/plain": [
       "<Figure size 432x288 with 0 Axes>"
      ]
     },
     "metadata": {},
     "output_type": "display_data"
    }
   ],
   "source": [
    "plt.figure(figsize=(10,8))\n",
    "plt.hist(data['Conversions'],\n",
    "         bins=10, color='blue') \n",
    "plt.xlabel('Conversions')\n",
    "plt.ylabel('Clicks')\n",
    "plt.title('Histogram Analysing ')\n",
    "plt.show()\n",
    "sns.despine()"
   ]
  },
  {
   "cell_type": "code",
   "execution_count": 110,
   "id": "cd1705b9",
   "metadata": {},
   "outputs": [
    {
     "data": {
      "image/png": "[encoded data removed]",
      "text/plain": [
       "<Figure size 432x288 with 1 Axes>"
      ]
     },
     "metadata": {},
     "output_type": "display_data"
    }
   ],
   "source": [
    "plt.hist(data['Conv Rate'])\n",
    "plt.show()"
   ]
  },
  {
   "cell_type": "code",
   "execution_count": 111,
   "id": "b4aed34e",
   "metadata": {},
   "outputs": [
    {
     "data": {
      "image/png": "[encoded data removed]",
      "text/plain": [
       "<Figure size 432x288 with 1 Axes>"
      ]
     },
     "metadata": {},
     "output_type": "display_data"
    }
   ],
   "source": [
    "plt.hist(data['Cost'])\n",
    "plt.show()"
   ]
  },
  {
   "cell_type": "code",
   "execution_count": 112,
   "id": "7b1d7ad0",
   "metadata": {},
   "outputs": [
    {
     "data": {
      "image/png": "[encoded data removed]",
      "text/plain": [
       "<Figure size 432x288 with 1 Axes>"
      ]
     },
     "metadata": {},
     "output_type": "display_data"
    }
   ],
   "source": [
    "plt.hist(data['CPC'])\n",
    "plt.show()"
   ]
  },
  {
   "cell_type": "code",
   "execution_count": 113,
   "id": "a77a1d1b",
   "metadata": {},
   "outputs": [
    {
     "data": {
      "image/png": "[encoded data removed]",
      "text/plain": [
       "<Figure size 432x288 with 1 Axes>"
      ]
     },
     "metadata": {},
     "output_type": "display_data"
    }
   ],
   "source": [
    "plt.hist(data['Revenue'])\n",
    "plt.show()"
   ]
  },
  {
   "cell_type": "code",
   "execution_count": 82,
   "id": "c2db579f",
   "metadata": {},
   "outputs": [
    {
     "data": {
      "text/plain": [
       "99526"
      ]
     },
     "execution_count": 82,
     "metadata": {},
     "output_type": "execute_result"
    }
   ],
   "source": [
    "data['Clicks'].max()"
   ]
  },
  {
   "cell_type": "code",
   "execution_count": 98,
   "id": "5f4b7320",
   "metadata": {},
   "outputs": [
    {
     "data": {
      "image/png": "[encoded data removed]",
      "text/plain": [
       "<Figure size 720x576 with 1 Axes>"
      ]
     },
     "metadata": {},
     "output_type": "display_data"
    }
   ],
   "source": [
    " plt.figure(figsize=(10,8))\n",
    "plt.bar(x=data[\"Month\"],\n",
    "       height = data[\"Impressions\"],\n",
    "       color=\"midnightblue\")\n",
    "plt.yticks(fontsize=13)\n",
    "plt.title(\"Analysing data for Ad\",fontsize=20, fontweight=\"bold\")\n",
    "plt.xticks(rotation = 45, fontsize = 13)\n",
    "plt.ylabel(\"Impressions \",fontsize= 20)\n",
    "plt.show()"
   ]
  },
  {
   "cell_type": "code",
   "execution_count": null,
   "id": "61d2ef8b",
   "metadata": {},
   "outputs": [],
   "source": []
  }
 ],
 "metadata": {
  "kernelspec": {
   "display_name": "Python 3 (ipykernel)",
   "language": "python",
   "name": "python3"
  },
  "language_info": {
   "codemirror_mode": {
    "name": "ipython",
    "version": 3
   },
   "file_extension": ".py",
   "mimetype": "text/x-python",
   "name": "python",
   "nbconvert_exporter": "python",
   "pygments_lexer": "ipython3",
   "version": "3.9.12"
  }
 },
 "nbformat": 4,
 "nbformat_minor": 5
}
